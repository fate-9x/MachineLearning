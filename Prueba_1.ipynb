{
 "cells": [
  {
   "cell_type": "markdown",
   "metadata": {
    "id": "Esog9rqyx7Bp"
   },
   "source": [
    "# Introducción\n",
    "\n",
    "Para cada uno de los ejercicios, debe auto-completar con Markdown los textos, y además debera utilizar solo y exclusivamente las librerías requeridas. De manera opcional puede entregar tablas de los resultados, y gráficos de los datos, que pueden compensar algun error en la resolución del ejercicio, pero siempre a partir de funciones."
   ]
  },
  {
   "cell_type": "markdown",
   "metadata": {
    "id": "-xBjgrApx83K"
   },
   "source": [
    "`# Inserte aca las librerias y dependencias necesarias para el desarrollo del ejercicio:`\n",
    "\n",
    "\n"
   ]
  },
  {
   "cell_type": "code",
   "execution_count": 1,
   "metadata": {
    "id": "VoyBqgp3yfFr"
   },
   "outputs": [],
   "source": [
    "import pandas as pd\n",
    "import numpy as np\n",
    "import matplotlib.pyplot as plt\n",
    "from scipy import stats\n",
    "from sklearn.impute import KNNImputer\n",
    "from sklearn.preprocessing import MinMaxScaler, LabelEncoder\n",
    "from scipy.stats import spearmanr\n",
    "from scipy.stats import kendalltau"
   ]
  },
  {
   "cell_type": "markdown",
   "metadata": {
    "id": "1Ep_nm3JyfoH"
   },
   "source": [
    "`# Inserte aca la lectura del archivo a utilizar en el desarrollo del ejercicio:`"
   ]
  },
  {
   "cell_type": "code",
   "execution_count": 2,
   "metadata": {
    "id": "PzUJoZHKylkL"
   },
   "outputs": [
    {
     "data": {
      "text/html": [
       "<div>\n",
       "<style scoped>\n",
       "    .dataframe tbody tr th:only-of-type {\n",
       "        vertical-align: middle;\n",
       "    }\n",
       "\n",
       "    .dataframe tbody tr th {\n",
       "        vertical-align: top;\n",
       "    }\n",
       "\n",
       "    .dataframe thead th {\n",
       "        text-align: right;\n",
       "    }\n",
       "</style>\n",
       "<table border=\"1\" class=\"dataframe\">\n",
       "  <thead>\n",
       "    <tr style=\"text-align: right;\">\n",
       "      <th></th>\n",
       "      <th>Id</th>\n",
       "      <th>Subsegmento</th>\n",
       "      <th>Sexo</th>\n",
       "      <th>Region</th>\n",
       "      <th>Edad</th>\n",
       "      <th>Renta</th>\n",
       "      <th>Antiguedad</th>\n",
       "      <th>Internauta</th>\n",
       "      <th>Adicional</th>\n",
       "      <th>Dualidad</th>\n",
       "      <th>...</th>\n",
       "      <th>PagoNac_T01</th>\n",
       "      <th>PagoInt_T01</th>\n",
       "      <th>EeccNac_T01</th>\n",
       "      <th>EeccInt_T01</th>\n",
       "      <th>UsoL1_T01</th>\n",
       "      <th>UsoL2_T01</th>\n",
       "      <th>UsoLI_T01</th>\n",
       "      <th>IndRev_T01</th>\n",
       "      <th>target</th>\n",
       "      <th>Unnamed: 574</th>\n",
       "    </tr>\n",
       "  </thead>\n",
       "  <tbody>\n",
       "    <tr>\n",
       "      <th>0</th>\n",
       "      <td>1</td>\n",
       "      <td>160</td>\n",
       "      <td>M</td>\n",
       "      <td>13.0</td>\n",
       "      <td>43</td>\n",
       "      <td>NaN</td>\n",
       "      <td>130</td>\n",
       "      <td>1</td>\n",
       "      <td>1</td>\n",
       "      <td>0</td>\n",
       "      <td>...</td>\n",
       "      <td>33000</td>\n",
       "      <td>0.0</td>\n",
       "      <td>1099866.0</td>\n",
       "      <td>0.0</td>\n",
       "      <td>1099866.0</td>\n",
       "      <td>15080</td>\n",
       "      <td>0.0</td>\n",
       "      <td>R</td>\n",
       "      <td>0</td>\n",
       "      <td>NaN</td>\n",
       "    </tr>\n",
       "    <tr>\n",
       "      <th>1</th>\n",
       "      <td>2</td>\n",
       "      <td>160</td>\n",
       "      <td>H</td>\n",
       "      <td>13.0</td>\n",
       "      <td>46</td>\n",
       "      <td>143640.0</td>\n",
       "      <td>69</td>\n",
       "      <td>1</td>\n",
       "      <td>0</td>\n",
       "      <td>0</td>\n",
       "      <td>...</td>\n",
       "      <td>300000</td>\n",
       "      <td>0.0</td>\n",
       "      <td>214592.0</td>\n",
       "      <td>0.0</td>\n",
       "      <td>214592.0</td>\n",
       "      <td>83596</td>\n",
       "      <td>0.0</td>\n",
       "      <td>R</td>\n",
       "      <td>0</td>\n",
       "      <td>NaN</td>\n",
       "    </tr>\n",
       "    <tr>\n",
       "      <th>2</th>\n",
       "      <td>3</td>\n",
       "      <td>170</td>\n",
       "      <td>H</td>\n",
       "      <td>13.0</td>\n",
       "      <td>45</td>\n",
       "      <td>929106.0</td>\n",
       "      <td>24</td>\n",
       "      <td>1</td>\n",
       "      <td>1</td>\n",
       "      <td>0</td>\n",
       "      <td>...</td>\n",
       "      <td>216676</td>\n",
       "      <td>0.0</td>\n",
       "      <td>0.0</td>\n",
       "      <td>0.0</td>\n",
       "      <td>7400.0</td>\n",
       "      <td>0</td>\n",
       "      <td>0.0</td>\n",
       "      <td>T</td>\n",
       "      <td>0</td>\n",
       "      <td>NaN</td>\n",
       "    </tr>\n",
       "    <tr>\n",
       "      <th>3</th>\n",
       "      <td>4</td>\n",
       "      <td>151</td>\n",
       "      <td>H</td>\n",
       "      <td>13.0</td>\n",
       "      <td>46</td>\n",
       "      <td>172447.0</td>\n",
       "      <td>134</td>\n",
       "      <td>0</td>\n",
       "      <td>1</td>\n",
       "      <td>0</td>\n",
       "      <td>...</td>\n",
       "      <td>60000</td>\n",
       "      <td>0.0</td>\n",
       "      <td>272762.0</td>\n",
       "      <td>0.0</td>\n",
       "      <td>272762.0</td>\n",
       "      <td>10591</td>\n",
       "      <td>0.0</td>\n",
       "      <td>R</td>\n",
       "      <td>0</td>\n",
       "      <td>NaN</td>\n",
       "    </tr>\n",
       "    <tr>\n",
       "      <th>4</th>\n",
       "      <td>5</td>\n",
       "      <td>170</td>\n",
       "      <td>H</td>\n",
       "      <td>13.0</td>\n",
       "      <td>46</td>\n",
       "      <td>805250.0</td>\n",
       "      <td>116</td>\n",
       "      <td>0</td>\n",
       "      <td>1</td>\n",
       "      <td>1</td>\n",
       "      <td>...</td>\n",
       "      <td>272925</td>\n",
       "      <td>0.0</td>\n",
       "      <td>249562.0</td>\n",
       "      <td>0.0</td>\n",
       "      <td>75339.0</td>\n",
       "      <td>377782</td>\n",
       "      <td>0.0</td>\n",
       "      <td>R</td>\n",
       "      <td>0</td>\n",
       "      <td>NaN</td>\n",
       "    </tr>\n",
       "    <tr>\n",
       "      <th>...</th>\n",
       "      <td>...</td>\n",
       "      <td>...</td>\n",
       "      <td>...</td>\n",
       "      <td>...</td>\n",
       "      <td>...</td>\n",
       "      <td>...</td>\n",
       "      <td>...</td>\n",
       "      <td>...</td>\n",
       "      <td>...</td>\n",
       "      <td>...</td>\n",
       "      <td>...</td>\n",
       "      <td>...</td>\n",
       "      <td>...</td>\n",
       "      <td>...</td>\n",
       "      <td>...</td>\n",
       "      <td>...</td>\n",
       "      <td>...</td>\n",
       "      <td>...</td>\n",
       "      <td>...</td>\n",
       "      <td>...</td>\n",
       "      <td>...</td>\n",
       "    </tr>\n",
       "    <tr>\n",
       "      <th>51119</th>\n",
       "      <td>51120</td>\n",
       "      <td>160</td>\n",
       "      <td>H</td>\n",
       "      <td>13.0</td>\n",
       "      <td>51</td>\n",
       "      <td>364978.0</td>\n",
       "      <td>57</td>\n",
       "      <td>1</td>\n",
       "      <td>1</td>\n",
       "      <td>1</td>\n",
       "      <td>...</td>\n",
       "      <td>300000</td>\n",
       "      <td>0.0</td>\n",
       "      <td>478320.0</td>\n",
       "      <td>0.0</td>\n",
       "      <td>478320.0</td>\n",
       "      <td>12668</td>\n",
       "      <td>0.0</td>\n",
       "      <td>R</td>\n",
       "      <td>0</td>\n",
       "      <td>NaN</td>\n",
       "    </tr>\n",
       "    <tr>\n",
       "      <th>51120</th>\n",
       "      <td>51121</td>\n",
       "      <td>170</td>\n",
       "      <td>H</td>\n",
       "      <td>13.0</td>\n",
       "      <td>51</td>\n",
       "      <td>625376.0</td>\n",
       "      <td>39</td>\n",
       "      <td>1</td>\n",
       "      <td>0</td>\n",
       "      <td>0</td>\n",
       "      <td>...</td>\n",
       "      <td>166098</td>\n",
       "      <td>0.0</td>\n",
       "      <td>166098.0</td>\n",
       "      <td>0.0</td>\n",
       "      <td>0.0</td>\n",
       "      <td>572363</td>\n",
       "      <td>0.0</td>\n",
       "      <td>R</td>\n",
       "      <td>0</td>\n",
       "      <td>NaN</td>\n",
       "    </tr>\n",
       "    <tr>\n",
       "      <th>51121</th>\n",
       "      <td>51122</td>\n",
       "      <td>160</td>\n",
       "      <td>H</td>\n",
       "      <td>13.0</td>\n",
       "      <td>47</td>\n",
       "      <td>806220.0</td>\n",
       "      <td>153</td>\n",
       "      <td>1</td>\n",
       "      <td>1</td>\n",
       "      <td>0</td>\n",
       "      <td>...</td>\n",
       "      <td>18891</td>\n",
       "      <td>0.0</td>\n",
       "      <td>9652.0</td>\n",
       "      <td>0.0</td>\n",
       "      <td>9652.0</td>\n",
       "      <td>16241</td>\n",
       "      <td>0.0</td>\n",
       "      <td>R</td>\n",
       "      <td>0</td>\n",
       "      <td>NaN</td>\n",
       "    </tr>\n",
       "    <tr>\n",
       "      <th>51122</th>\n",
       "      <td>51123</td>\n",
       "      <td>160</td>\n",
       "      <td>M</td>\n",
       "      <td>13.0</td>\n",
       "      <td>47</td>\n",
       "      <td>NaN</td>\n",
       "      <td>11</td>\n",
       "      <td>1</td>\n",
       "      <td>0</td>\n",
       "      <td>0</td>\n",
       "      <td>...</td>\n",
       "      <td>26528</td>\n",
       "      <td>0.0</td>\n",
       "      <td>24638.0</td>\n",
       "      <td>0.0</td>\n",
       "      <td>24638.0</td>\n",
       "      <td>84982</td>\n",
       "      <td>0.0</td>\n",
       "      <td>R</td>\n",
       "      <td>0</td>\n",
       "      <td>NaN</td>\n",
       "    </tr>\n",
       "    <tr>\n",
       "      <th>51123</th>\n",
       "      <td>51124</td>\n",
       "      <td>170</td>\n",
       "      <td>H</td>\n",
       "      <td>13.0</td>\n",
       "      <td>51</td>\n",
       "      <td>840878.0</td>\n",
       "      <td>75</td>\n",
       "      <td>1</td>\n",
       "      <td>1</td>\n",
       "      <td>0</td>\n",
       "      <td>...</td>\n",
       "      <td>12360</td>\n",
       "      <td>0.0</td>\n",
       "      <td>12360.0</td>\n",
       "      <td>0.0</td>\n",
       "      <td>18500.0</td>\n",
       "      <td>0</td>\n",
       "      <td>0.0</td>\n",
       "      <td>R</td>\n",
       "      <td>0</td>\n",
       "      <td>NaN</td>\n",
       "    </tr>\n",
       "  </tbody>\n",
       "</table>\n",
       "<p>51124 rows × 575 columns</p>\n",
       "</div>"
      ],
      "text/plain": [
       "          Id  Subsegmento Sexo  Region  Edad     Renta  Antiguedad  \\\n",
       "0          1          160    M    13.0    43       NaN         130   \n",
       "1          2          160    H    13.0    46  143640.0          69   \n",
       "2          3          170    H    13.0    45  929106.0          24   \n",
       "3          4          151    H    13.0    46  172447.0         134   \n",
       "4          5          170    H    13.0    46  805250.0         116   \n",
       "...      ...          ...  ...     ...   ...       ...         ...   \n",
       "51119  51120          160    H    13.0    51  364978.0          57   \n",
       "51120  51121          170    H    13.0    51  625376.0          39   \n",
       "51121  51122          160    H    13.0    47  806220.0         153   \n",
       "51122  51123          160    M    13.0    47       NaN          11   \n",
       "51123  51124          170    H    13.0    51  840878.0          75   \n",
       "\n",
       "       Internauta  Adicional  Dualidad  ...  PagoNac_T01  PagoInt_T01  \\\n",
       "0               1          1         0  ...        33000          0.0   \n",
       "1               1          0         0  ...       300000          0.0   \n",
       "2               1          1         0  ...       216676          0.0   \n",
       "3               0          1         0  ...        60000          0.0   \n",
       "4               0          1         1  ...       272925          0.0   \n",
       "...           ...        ...       ...  ...          ...          ...   \n",
       "51119           1          1         1  ...       300000          0.0   \n",
       "51120           1          0         0  ...       166098          0.0   \n",
       "51121           1          1         0  ...        18891          0.0   \n",
       "51122           1          0         0  ...        26528          0.0   \n",
       "51123           1          1         0  ...        12360          0.0   \n",
       "\n",
       "       EeccNac_T01  EeccInt_T01  UsoL1_T01  UsoL2_T01  UsoLI_T01  IndRev_T01  \\\n",
       "0        1099866.0          0.0  1099866.0      15080        0.0           R   \n",
       "1         214592.0          0.0   214592.0      83596        0.0           R   \n",
       "2              0.0          0.0     7400.0          0        0.0           T   \n",
       "3         272762.0          0.0   272762.0      10591        0.0           R   \n",
       "4         249562.0          0.0    75339.0     377782        0.0           R   \n",
       "...            ...          ...        ...        ...        ...         ...   \n",
       "51119     478320.0          0.0   478320.0      12668        0.0           R   \n",
       "51120     166098.0          0.0        0.0     572363        0.0           R   \n",
       "51121       9652.0          0.0     9652.0      16241        0.0           R   \n",
       "51122      24638.0          0.0    24638.0      84982        0.0           R   \n",
       "51123      12360.0          0.0    18500.0          0        0.0           R   \n",
       "\n",
       "       target  Unnamed: 574  \n",
       "0           0           NaN  \n",
       "1           0           NaN  \n",
       "2           0           NaN  \n",
       "3           0           NaN  \n",
       "4           0           NaN  \n",
       "...       ...           ...  \n",
       "51119       0           NaN  \n",
       "51120       0           NaN  \n",
       "51121       0           NaN  \n",
       "51122       0           NaN  \n",
       "51123       0           NaN  \n",
       "\n",
       "[51124 rows x 575 columns]"
      ]
     },
     "execution_count": 2,
     "metadata": {},
     "output_type": "execute_result"
    }
   ],
   "source": [
    "df1 = pd.read_excel('Base_clientes_Monopoly.xlsx', 'Transición de Negocio', skiprows=[0])\n",
    "\n",
    "#df1 = pd.read_excel('/content/data/Base_clientes_Monopoly.xlsx', 'Transición de Negocio', skiprows=[0])\n",
    "\n",
    "df1"
   ]
  },
  {
   "cell_type": "markdown",
   "metadata": {
    "id": "UyA2Fi7oymQd"
   },
   "source": [
    "`# Utilice un ejemplo de vectores a partir de los datos:`"
   ]
  },
  {
   "cell_type": "code",
   "execution_count": 3,
   "metadata": {
    "id": "glrUyYqlyulv"
   },
   "outputs": [
    {
     "data": {
      "text/plain": [
       "0        160\n",
       "1        160\n",
       "2        170\n",
       "3        151\n",
       "4        170\n",
       "        ... \n",
       "51119    160\n",
       "51120    170\n",
       "51121    160\n",
       "51122    160\n",
       "51123    170\n",
       "Name: Subsegmento, Length: 51124, dtype: int64"
      ]
     },
     "execution_count": 3,
     "metadata": {},
     "output_type": "execute_result"
    }
   ],
   "source": [
    "#En esta linea de codigo usaremos la columna Subsegmento para mostrar un vector\n",
    "\n",
    "df1['Subsegmento']"
   ]
  },
  {
   "cell_type": "markdown",
   "metadata": {
    "id": "96gECoy2yu_m"
   },
   "source": [
    "`# Utilice un ejemplo de matrices a partir de los datos:`"
   ]
  },
  {
   "cell_type": "code",
   "execution_count": 4,
   "metadata": {
    "id": "fEGAPgwByxl2"
   },
   "outputs": [
    {
     "data": {
      "text/html": [
       "<div>\n",
       "<style scoped>\n",
       "    .dataframe tbody tr th:only-of-type {\n",
       "        vertical-align: middle;\n",
       "    }\n",
       "\n",
       "    .dataframe tbody tr th {\n",
       "        vertical-align: top;\n",
       "    }\n",
       "\n",
       "    .dataframe thead th {\n",
       "        text-align: right;\n",
       "    }\n",
       "</style>\n",
       "<table border=\"1\" class=\"dataframe\">\n",
       "  <thead>\n",
       "    <tr style=\"text-align: right;\">\n",
       "      <th></th>\n",
       "      <th>Id</th>\n",
       "      <th>Subsegmento</th>\n",
       "    </tr>\n",
       "  </thead>\n",
       "  <tbody>\n",
       "    <tr>\n",
       "      <th>0</th>\n",
       "      <td>1</td>\n",
       "      <td>160</td>\n",
       "    </tr>\n",
       "    <tr>\n",
       "      <th>1</th>\n",
       "      <td>2</td>\n",
       "      <td>160</td>\n",
       "    </tr>\n",
       "    <tr>\n",
       "      <th>2</th>\n",
       "      <td>3</td>\n",
       "      <td>170</td>\n",
       "    </tr>\n",
       "    <tr>\n",
       "      <th>3</th>\n",
       "      <td>4</td>\n",
       "      <td>151</td>\n",
       "    </tr>\n",
       "    <tr>\n",
       "      <th>4</th>\n",
       "      <td>5</td>\n",
       "      <td>170</td>\n",
       "    </tr>\n",
       "    <tr>\n",
       "      <th>...</th>\n",
       "      <td>...</td>\n",
       "      <td>...</td>\n",
       "    </tr>\n",
       "    <tr>\n",
       "      <th>51119</th>\n",
       "      <td>51120</td>\n",
       "      <td>160</td>\n",
       "    </tr>\n",
       "    <tr>\n",
       "      <th>51120</th>\n",
       "      <td>51121</td>\n",
       "      <td>170</td>\n",
       "    </tr>\n",
       "    <tr>\n",
       "      <th>51121</th>\n",
       "      <td>51122</td>\n",
       "      <td>160</td>\n",
       "    </tr>\n",
       "    <tr>\n",
       "      <th>51122</th>\n",
       "      <td>51123</td>\n",
       "      <td>160</td>\n",
       "    </tr>\n",
       "    <tr>\n",
       "      <th>51123</th>\n",
       "      <td>51124</td>\n",
       "      <td>170</td>\n",
       "    </tr>\n",
       "  </tbody>\n",
       "</table>\n",
       "<p>51124 rows × 2 columns</p>\n",
       "</div>"
      ],
      "text/plain": [
       "          Id  Subsegmento\n",
       "0          1          160\n",
       "1          2          160\n",
       "2          3          170\n",
       "3          4          151\n",
       "4          5          170\n",
       "...      ...          ...\n",
       "51119  51120          160\n",
       "51120  51121          170\n",
       "51121  51122          160\n",
       "51122  51123          160\n",
       "51123  51124          170\n",
       "\n",
       "[51124 rows x 2 columns]"
      ]
     },
     "execution_count": 4,
     "metadata": {},
     "output_type": "execute_result"
    }
   ],
   "source": [
    "df_matriz = df1.iloc[:, 0:2]\n",
    "df_matriz"
   ]
  },
  {
   "cell_type": "markdown",
   "metadata": {
    "id": "pjkTCUqOzIHp"
   },
   "source": [
    "`# Utilice un ejemplo de media, a partir de una de las columnas a su elección:`"
   ]
  },
  {
   "cell_type": "code",
   "execution_count": 5,
   "metadata": {
    "id": "AuOEvgR9zNU5"
   },
   "outputs": [
    {
     "data": {
      "text/plain": [
       "38.70287927392223"
      ]
     },
     "execution_count": 5,
     "metadata": {},
     "output_type": "execute_result"
    }
   ],
   "source": [
    "df1['Edad'].mean()"
   ]
  },
  {
   "cell_type": "markdown",
   "metadata": {
    "id": "d9e-r1-UzNmO"
   },
   "source": [
    "`# Utilice un ejemplo de media recortada, a partir de una de las columnas a su elección:`"
   ]
  },
  {
   "cell_type": "code",
   "execution_count": 6,
   "metadata": {
    "id": "anu0-QPCzPmE"
   },
   "outputs": [
    {
     "data": {
      "text/plain": [
       "37.055721271393644"
      ]
     },
     "execution_count": 6,
     "metadata": {},
     "output_type": "execute_result"
    }
   ],
   "source": [
    "stats.trim_mean(df1['Edad'], 0.1)"
   ]
  },
  {
   "cell_type": "markdown",
   "metadata": {
    "id": "6Z6Zvis6zPvU"
   },
   "source": [
    "`# Utilice un ejemplo de mediana, a partir de una de las columnas a su elección:`"
   ]
  },
  {
   "cell_type": "code",
   "execution_count": 7,
   "metadata": {
    "id": "H0gBBRk7zRD9"
   },
   "outputs": [
    {
     "data": {
      "text/plain": [
       "35.0"
      ]
     },
     "execution_count": 7,
     "metadata": {},
     "output_type": "execute_result"
    }
   ],
   "source": [
    "np.median(df1['Edad'])"
   ]
  },
  {
   "cell_type": "markdown",
   "metadata": {
    "id": "EUkx4lAbzjWi"
   },
   "source": [
    "`# Utilice un ejemplo de rango intercuartil, a partir de una de las columnas a su elección:`"
   ]
  },
  {
   "attachments": {
    "image.png": {
     "image/png": "[encoded data removed]"
    }
   },
   "cell_type": "markdown",
   "metadata": {},
   "source": [
    "![image.png](attachment:image.png)"
   ]
  },
  {
   "cell_type": "markdown",
   "metadata": {},
   "source": [
    "El rango en donde esta la concentración de datos de los intercuartiles ronda entre los 20.000 y 32.000 aproximadamente."
   ]
  },
  {
   "cell_type": "code",
   "execution_count": 8,
   "metadata": {
    "id": "--YeORLzzlhX"
   },
   "outputs": [
    {
     "data": {
      "image/png": "[encoded data removed]",
      "text/plain": [
       "<Figure size 400x400 with 1 Axes>"
      ]
     },
     "metadata": {},
     "output_type": "display_data"
    }
   ],
   "source": [
    "q1 = df1['Renta'].quantile(0.25)\n",
    "q3 = df1['Renta'].quantile(0.75)\n",
    "iqr = q3 - q1\n",
    "iqr\n",
    "\n",
    "df1_q1 = int(df1['Id'].count().sum() * 0.25)\n",
    "df1_q2 = int(df1['Id'].count().sum() * 0.75)\n",
    "\n",
    "df_iqr = df1.iloc[df1_q1:df1_q2, 0]\n",
    "\n",
    "fig1, axs = plt.subplots(figsize=(4,4))\n",
    "\n",
    "axs.set_title('Rango Intercuartil')\n",
    "axs.boxplot(df_iqr)\n",
    "\n",
    "plt.show()"
   ]
  },
  {
   "cell_type": "markdown",
   "metadata": {
    "id": "RbEJvrZCzqTW"
   },
   "source": [
    "`# Utilice un ejemplo de datos faltantes, mediante imputación de las columnas a su elección:`"
   ]
  },
  {
   "cell_type": "code",
   "execution_count": 9,
   "metadata": {},
   "outputs": [
    {
     "data": {
      "text/plain": [
       "13365"
      ]
     },
     "execution_count": 9,
     "metadata": {},
     "output_type": "execute_result"
    }
   ],
   "source": [
    "#Cantidad de datos nulos dentro de la columna Renta\n",
    "df1['Renta'].isnull().sum()"
   ]
  },
  {
   "cell_type": "markdown",
   "metadata": {},
   "source": [
    "A continuación se realizó la imputación de datos de la columna Renta con el método fillna usando su promedio.\n",
    "Con esto se pudo eliminar por completo los datos nulos de la columna."
   ]
  },
  {
   "cell_type": "code",
   "execution_count": 10,
   "metadata": {
    "id": "lStGsq4WzwJb"
   },
   "outputs": [
    {
     "data": {
      "text/plain": [
       "0"
      ]
     },
     "execution_count": 10,
     "metadata": {},
     "output_type": "execute_result"
    }
   ],
   "source": [
    "a = df1['Renta']\n",
    "prom_Renta = a.mean()\n",
    "\n",
    "df_mean = df1.fillna({'Renta':prom_Renta})\n",
    "df_mean['Renta'].isnull().sum()"
   ]
  },
  {
   "cell_type": "markdown",
   "metadata": {
    "id": "5Iflbcg7zwdl"
   },
   "source": [
    "`# Utilice un ejemplo de datos falantes, mediante K-NN de una de las columnas a su elección:`"
   ]
  },
  {
   "cell_type": "code",
   "execution_count": 11,
   "metadata": {},
   "outputs": [
    {
     "data": {
      "text/plain": [
       "13365"
      ]
     },
     "execution_count": 11,
     "metadata": {},
     "output_type": "execute_result"
    }
   ],
   "source": [
    "#Cantidad de datos nulos dentro de la columna Renta\n",
    "df1['Renta'].isnull().sum()"
   ]
  },
  {
   "cell_type": "markdown",
   "metadata": {},
   "source": [
    "Se utilizo el imputador KNNImputer y luego se graficaron los primeros 10.000 datos"
   ]
  },
  {
   "cell_type": "code",
   "execution_count": 12,
   "metadata": {
    "id": "FttyeYc_0A3A"
   },
   "outputs": [
    {
     "data": {
      "text/plain": [
       "Renta    0\n",
       "dtype: int64"
      ]
     },
     "execution_count": 12,
     "metadata": {},
     "output_type": "execute_result"
    }
   ],
   "source": [
    "knn_imputer = KNNImputer(n_neighbors=5, weights='uniform')\n",
    "\n",
    "df1_new = df1.copy()\n",
    "\n",
    "df1_new[['Renta']] = knn_imputer.fit_transform(df1_new[['Renta']])\n",
    "\n",
    "df1_new[['Renta']].isnull().sum()"
   ]
  },
  {
   "cell_type": "code",
   "execution_count": 13,
   "metadata": {},
   "outputs": [
    {
     "data": {
      "image/png": "[encoded data removed]",
      "text/plain": [
       "<Figure size 640x480 with 1 Axes>"
      ]
     },
     "metadata": {},
     "output_type": "display_data"
    }
   ],
   "source": [
    "plt.bar(df1_new['Id'][:10000], df1_new['Renta'][:10000], color='green')\n",
    "plt.xlabel('Id')\n",
    "plt.ylabel('Renta')\n",
    "plt.title('Visualización de los datos de Renta')\n",
    "plt.ticklabel_format(style='plain')\n",
    "plt.show()"
   ]
  },
  {
   "cell_type": "markdown",
   "metadata": {
    "id": "hiFS677N0NP7"
   },
   "source": [
    "`# Utilice un ejemplo de escalamiento a elección, a partir de una de las columnas a su elección:`"
   ]
  },
  {
   "cell_type": "code",
   "execution_count": 14,
   "metadata": {
    "id": "CVHSxPDM0VZ7"
   },
   "outputs": [
    {
     "data": {
      "text/plain": [
       "count    51124.000000\n",
       "mean         0.050658\n",
       "std          0.026872\n",
       "min          0.000000\n",
       "25%          0.035675\n",
       "50%          0.050658\n",
       "75%          0.054204\n",
       "max          1.000000\n",
       "Name: Renta_Scaled, dtype: float64"
      ]
     },
     "execution_count": 14,
     "metadata": {},
     "output_type": "execute_result"
    }
   ],
   "source": [
    "scaler = MinMaxScaler()\n",
    "df1_new['Renta_Scaled'] = scaler.fit_transform(df1_new[['Renta']])\n",
    "\n",
    "df1_new['Renta_Scaled'].describe()"
   ]
  },
  {
   "cell_type": "markdown",
   "metadata": {
    "id": "miNMo6uv0VqY"
   },
   "source": [
    "`# Utilice un ejemplo de encoding, a partir de una de las columnas a su elección:`"
   ]
  },
  {
   "cell_type": "code",
   "execution_count": 15,
   "metadata": {
    "id": "lgBagzfL0aOw"
   },
   "outputs": [
    {
     "data": {
      "text/plain": [
       "0        1\n",
       "1        0\n",
       "2        0\n",
       "3        0\n",
       "4        0\n",
       "        ..\n",
       "51119    0\n",
       "51120    0\n",
       "51121    0\n",
       "51122    1\n",
       "51123    0\n",
       "Name: Sexo_Encoded, Length: 51124, dtype: int32"
      ]
     },
     "execution_count": 15,
     "metadata": {},
     "output_type": "execute_result"
    }
   ],
   "source": [
    "encoder = LabelEncoder()\n",
    "\n",
    "df1_new['Sexo_Encoded'] = encoder.fit_transform(df1_new[\"Sexo\"])\n",
    "\n",
    "df1_new['Sexo_Encoded']"
   ]
  },
  {
   "cell_type": "code",
   "execution_count": 16,
   "metadata": {},
   "outputs": [
    {
     "data": {
      "text/html": [
       "<div>\n",
       "<style scoped>\n",
       "    .dataframe tbody tr th:only-of-type {\n",
       "        vertical-align: middle;\n",
       "    }\n",
       "\n",
       "    .dataframe tbody tr th {\n",
       "        vertical-align: top;\n",
       "    }\n",
       "\n",
       "    .dataframe thead th {\n",
       "        text-align: right;\n",
       "    }\n",
       "</style>\n",
       "<table border=\"1\" class=\"dataframe\">\n",
       "  <thead>\n",
       "    <tr style=\"text-align: right;\">\n",
       "      <th></th>\n",
       "      <th>Id</th>\n",
       "      <th>Subsegmento</th>\n",
       "      <th>Sexo</th>\n",
       "      <th>Region</th>\n",
       "      <th>Edad</th>\n",
       "      <th>Renta</th>\n",
       "      <th>Antiguedad</th>\n",
       "      <th>Internauta</th>\n",
       "      <th>Adicional</th>\n",
       "      <th>Dualidad</th>\n",
       "      <th>Monoproducto</th>\n",
       "      <th>Ctacte</th>\n",
       "      <th>Consumo</th>\n",
       "      <th>Hipotecario</th>\n",
       "    </tr>\n",
       "  </thead>\n",
       "  <tbody>\n",
       "    <tr>\n",
       "      <th>0</th>\n",
       "      <td>1</td>\n",
       "      <td>160</td>\n",
       "      <td>M</td>\n",
       "      <td>13.0</td>\n",
       "      <td>43</td>\n",
       "      <td>663077.078726</td>\n",
       "      <td>130</td>\n",
       "      <td>1</td>\n",
       "      <td>1</td>\n",
       "      <td>0</td>\n",
       "      <td>0</td>\n",
       "      <td>1</td>\n",
       "      <td>0</td>\n",
       "      <td>0</td>\n",
       "    </tr>\n",
       "    <tr>\n",
       "      <th>1</th>\n",
       "      <td>2</td>\n",
       "      <td>160</td>\n",
       "      <td>H</td>\n",
       "      <td>13.0</td>\n",
       "      <td>46</td>\n",
       "      <td>143640.000000</td>\n",
       "      <td>69</td>\n",
       "      <td>1</td>\n",
       "      <td>0</td>\n",
       "      <td>0</td>\n",
       "      <td>0</td>\n",
       "      <td>1</td>\n",
       "      <td>0</td>\n",
       "      <td>1</td>\n",
       "    </tr>\n",
       "    <tr>\n",
       "      <th>2</th>\n",
       "      <td>3</td>\n",
       "      <td>170</td>\n",
       "      <td>H</td>\n",
       "      <td>13.0</td>\n",
       "      <td>45</td>\n",
       "      <td>929106.000000</td>\n",
       "      <td>24</td>\n",
       "      <td>1</td>\n",
       "      <td>1</td>\n",
       "      <td>0</td>\n",
       "      <td>0</td>\n",
       "      <td>1</td>\n",
       "      <td>0</td>\n",
       "      <td>1</td>\n",
       "    </tr>\n",
       "    <tr>\n",
       "      <th>3</th>\n",
       "      <td>4</td>\n",
       "      <td>151</td>\n",
       "      <td>H</td>\n",
       "      <td>13.0</td>\n",
       "      <td>46</td>\n",
       "      <td>172447.000000</td>\n",
       "      <td>134</td>\n",
       "      <td>0</td>\n",
       "      <td>1</td>\n",
       "      <td>0</td>\n",
       "      <td>1</td>\n",
       "      <td>0</td>\n",
       "      <td>0</td>\n",
       "      <td>0</td>\n",
       "    </tr>\n",
       "    <tr>\n",
       "      <th>4</th>\n",
       "      <td>5</td>\n",
       "      <td>170</td>\n",
       "      <td>H</td>\n",
       "      <td>13.0</td>\n",
       "      <td>46</td>\n",
       "      <td>805250.000000</td>\n",
       "      <td>116</td>\n",
       "      <td>0</td>\n",
       "      <td>1</td>\n",
       "      <td>1</td>\n",
       "      <td>0</td>\n",
       "      <td>1</td>\n",
       "      <td>0</td>\n",
       "      <td>1</td>\n",
       "    </tr>\n",
       "    <tr>\n",
       "      <th>...</th>\n",
       "      <td>...</td>\n",
       "      <td>...</td>\n",
       "      <td>...</td>\n",
       "      <td>...</td>\n",
       "      <td>...</td>\n",
       "      <td>...</td>\n",
       "      <td>...</td>\n",
       "      <td>...</td>\n",
       "      <td>...</td>\n",
       "      <td>...</td>\n",
       "      <td>...</td>\n",
       "      <td>...</td>\n",
       "      <td>...</td>\n",
       "      <td>...</td>\n",
       "    </tr>\n",
       "    <tr>\n",
       "      <th>51119</th>\n",
       "      <td>51120</td>\n",
       "      <td>160</td>\n",
       "      <td>H</td>\n",
       "      <td>13.0</td>\n",
       "      <td>51</td>\n",
       "      <td>364978.000000</td>\n",
       "      <td>57</td>\n",
       "      <td>1</td>\n",
       "      <td>1</td>\n",
       "      <td>1</td>\n",
       "      <td>0</td>\n",
       "      <td>1</td>\n",
       "      <td>0</td>\n",
       "      <td>0</td>\n",
       "    </tr>\n",
       "    <tr>\n",
       "      <th>51120</th>\n",
       "      <td>51121</td>\n",
       "      <td>170</td>\n",
       "      <td>H</td>\n",
       "      <td>13.0</td>\n",
       "      <td>51</td>\n",
       "      <td>625376.000000</td>\n",
       "      <td>39</td>\n",
       "      <td>1</td>\n",
       "      <td>0</td>\n",
       "      <td>0</td>\n",
       "      <td>0</td>\n",
       "      <td>1</td>\n",
       "      <td>0</td>\n",
       "      <td>0</td>\n",
       "    </tr>\n",
       "    <tr>\n",
       "      <th>51121</th>\n",
       "      <td>51122</td>\n",
       "      <td>160</td>\n",
       "      <td>H</td>\n",
       "      <td>13.0</td>\n",
       "      <td>47</td>\n",
       "      <td>806220.000000</td>\n",
       "      <td>153</td>\n",
       "      <td>1</td>\n",
       "      <td>1</td>\n",
       "      <td>0</td>\n",
       "      <td>0</td>\n",
       "      <td>1</td>\n",
       "      <td>0</td>\n",
       "      <td>0</td>\n",
       "    </tr>\n",
       "    <tr>\n",
       "      <th>51122</th>\n",
       "      <td>51123</td>\n",
       "      <td>160</td>\n",
       "      <td>M</td>\n",
       "      <td>13.0</td>\n",
       "      <td>47</td>\n",
       "      <td>663077.078726</td>\n",
       "      <td>11</td>\n",
       "      <td>1</td>\n",
       "      <td>0</td>\n",
       "      <td>0</td>\n",
       "      <td>0</td>\n",
       "      <td>1</td>\n",
       "      <td>0</td>\n",
       "      <td>0</td>\n",
       "    </tr>\n",
       "    <tr>\n",
       "      <th>51123</th>\n",
       "      <td>51124</td>\n",
       "      <td>170</td>\n",
       "      <td>H</td>\n",
       "      <td>13.0</td>\n",
       "      <td>51</td>\n",
       "      <td>840878.000000</td>\n",
       "      <td>75</td>\n",
       "      <td>1</td>\n",
       "      <td>1</td>\n",
       "      <td>0</td>\n",
       "      <td>0</td>\n",
       "      <td>1</td>\n",
       "      <td>0</td>\n",
       "      <td>0</td>\n",
       "    </tr>\n",
       "  </tbody>\n",
       "</table>\n",
       "<p>51124 rows × 14 columns</p>\n",
       "</div>"
      ],
      "text/plain": [
       "          Id  Subsegmento Sexo  Region  Edad          Renta  Antiguedad  \\\n",
       "0          1          160    M    13.0    43  663077.078726         130   \n",
       "1          2          160    H    13.0    46  143640.000000          69   \n",
       "2          3          170    H    13.0    45  929106.000000          24   \n",
       "3          4          151    H    13.0    46  172447.000000         134   \n",
       "4          5          170    H    13.0    46  805250.000000         116   \n",
       "...      ...          ...  ...     ...   ...            ...         ...   \n",
       "51119  51120          160    H    13.0    51  364978.000000          57   \n",
       "51120  51121          170    H    13.0    51  625376.000000          39   \n",
       "51121  51122          160    H    13.0    47  806220.000000         153   \n",
       "51122  51123          160    M    13.0    47  663077.078726          11   \n",
       "51123  51124          170    H    13.0    51  840878.000000          75   \n",
       "\n",
       "       Internauta  Adicional  Dualidad  Monoproducto  Ctacte  Consumo  \\\n",
       "0               1          1         0             0       1        0   \n",
       "1               1          0         0             0       1        0   \n",
       "2               1          1         0             0       1        0   \n",
       "3               0          1         0             1       0        0   \n",
       "4               0          1         1             0       1        0   \n",
       "...           ...        ...       ...           ...     ...      ...   \n",
       "51119           1          1         1             0       1        0   \n",
       "51120           1          0         0             0       1        0   \n",
       "51121           1          1         0             0       1        0   \n",
       "51122           1          0         0             0       1        0   \n",
       "51123           1          1         0             0       1        0   \n",
       "\n",
       "       Hipotecario  \n",
       "0                0  \n",
       "1                1  \n",
       "2                1  \n",
       "3                0  \n",
       "4                1  \n",
       "...            ...  \n",
       "51119            0  \n",
       "51120            0  \n",
       "51121            0  \n",
       "51122            0  \n",
       "51123            0  \n",
       "\n",
       "[51124 rows x 14 columns]"
      ]
     },
     "execution_count": 16,
     "metadata": {},
     "output_type": "execute_result"
    }
   ],
   "source": [
    "df1_new.iloc[:, :14]"
   ]
  },
  {
   "cell_type": "code",
   "execution_count": 17,
   "metadata": {},
   "outputs": [
    {
     "name": "stdout",
     "output_type": "stream",
     "text": [
      "Correlación de Searmanr entre Edad y Subsegmento: -0.6018046083816241\n"
     ]
    },
    {
     "data": {
      "image/png": "[encoded data removed]",
      "text/plain": [
       "<Figure size 640x480 with 1 Axes>"
      ]
     },
     "metadata": {},
     "output_type": "display_data"
    }
   ],
   "source": [
    "df_test = df1_new.loc[:,[\"Edad\", \"Subsegmento\"]]\n",
    "correlation_spearmanr, p_value = spearmanr(df_test.iloc[:, 0], df_test.iloc[:, 1])\n",
    "\n",
    "\n",
    "print(\"Correlación de Searmanr entre Edad y Subsegmento:\", correlation_spearmanr)\n",
    "\n",
    "plt.plot(df_test.iloc[:, 0], df_test.iloc[:, 1], \"r.\")\n",
    "plt.xlabel('Edad')\n",
    "plt.ylabel('Subsegmento')\n",
    "plt.title('Correlación de Spearman')\n",
    "\n",
    "plt.grid(True)\n",
    "plt.show()"
   ]
  },
  {
   "cell_type": "code",
   "execution_count": 18,
   "metadata": {},
   "outputs": [
    {
     "ename": "TypeError",
     "evalue": "cannot unpack non-iterable numpy.float64 object",
     "output_type": "error",
     "traceback": [
      "\u001b[1;31m---------------------------------------------------------------------------\u001b[0m",
      "\u001b[1;31mTypeError\u001b[0m                                 Traceback (most recent call last)",
      "\u001b[1;32mc:\\Users\\bavyj\\OneDrive\\Documentos\\ML\\Prueba_1.ipynb Cell 35\u001b[0m line \u001b[0;36m2\n\u001b[0;32m      <a href='vscode-notebook-cell:/c%3A/Users/bavyj/OneDrive/Documentos/ML/Prueba_1.ipynb#X51sZmlsZQ%3D%3D?line=0'>1</a>\u001b[0m df_test \u001b[39m=\u001b[39m df1_new\u001b[39m.\u001b[39mloc[:, [\u001b[39m\"\u001b[39m\u001b[39mEdad\u001b[39m\u001b[39m\"\u001b[39m, \u001b[39m\"\u001b[39m\u001b[39mSubsegmento\u001b[39m\u001b[39m\"\u001b[39m]]\n\u001b[1;32m----> <a href='vscode-notebook-cell:/c%3A/Users/bavyj/OneDrive/Documentos/ML/Prueba_1.ipynb#X51sZmlsZQ%3D%3D?line=1'>2</a>\u001b[0m correlation_pearson, p_value \u001b[39m=\u001b[39m df_test\u001b[39m.\u001b[39mcorr(method\u001b[39m=\u001b[39m\u001b[39m'\u001b[39m\u001b[39mpearson\u001b[39m\u001b[39m'\u001b[39m)\u001b[39m.\u001b[39miloc[\u001b[39m0\u001b[39m, \u001b[39m1\u001b[39m]\n\u001b[0;32m      <a href='vscode-notebook-cell:/c%3A/Users/bavyj/OneDrive/Documentos/ML/Prueba_1.ipynb#X51sZmlsZQ%3D%3D?line=3'>4</a>\u001b[0m \u001b[39mprint\u001b[39m(\u001b[39m\"\u001b[39m\u001b[39mCorrelación de Pearson entre Edad y Subsegmento:\u001b[39m\u001b[39m\"\u001b[39m, correlation_pearson)\n\u001b[0;32m      <a href='vscode-notebook-cell:/c%3A/Users/bavyj/OneDrive/Documentos/ML/Prueba_1.ipynb#X51sZmlsZQ%3D%3D?line=5'>6</a>\u001b[0m plt\u001b[39m.\u001b[39mplot(df_test\u001b[39m.\u001b[39mloc[:, \u001b[39m\"\u001b[39m\u001b[39mEdad\u001b[39m\u001b[39m\"\u001b[39m], df_test\u001b[39m.\u001b[39mloc[:, \u001b[39m\"\u001b[39m\u001b[39mSubsegmento\u001b[39m\u001b[39m\"\u001b[39m], \u001b[39m\"\u001b[39m\u001b[39mr.\u001b[39m\u001b[39m\"\u001b[39m)\n",
      "\u001b[1;31mTypeError\u001b[0m: cannot unpack non-iterable numpy.float64 object"
     ]
    }
   ],
   "source": [
    "df_test = df1_new.loc[:, [\"Edad\", \"Renta_Scaled\"]]\n",
    "correlation_pearson, p_value = df_test.corr(method='pearson').iloc[0, 1]\n",
    "\n",
    "print(\"Correlación de Pearson entre Edad y Renta_Scaled:\", correlation_pearson)\n",
    "\n",
    "plt.plot(df_test.loc[:, \"Edad\"], df_test.loc[:, \"Renta_Scaled\"], \"r.\")\n",
    "plt.xlabel('Edad')\n",
    "plt.ylabel('Renta_Scaled')\n",
    "plt.title('Correlación de Pearson')\n",
    "\n",
    "plt.grid(True)\n",
    "plt.show()"
   ]
  },
  {
   "cell_type": "code",
   "execution_count": null,
   "metadata": {},
   "outputs": [
    {
     "ename": "NameError",
     "evalue": "name 'df1_new' is not defined",
     "output_type": "error",
     "traceback": [
      "\u001b[1;31m---------------------------------------------------------------------------\u001b[0m",
      "\u001b[1;31mNameError\u001b[0m                                 Traceback (most recent call last)",
      "\u001b[1;32mc:\\Users\\bavyj\\OneDrive\\Documentos\\ML\\Prueba_1.ipynb Cell 36\u001b[0m line \u001b[0;36m1\n\u001b[1;32m----> <a href='vscode-notebook-cell:/c%3A/Users/bavyj/OneDrive/Documentos/ML/Prueba_1.ipynb#X52sZmlsZQ%3D%3D?line=0'>1</a>\u001b[0m df_test \u001b[39m=\u001b[39m df1_new\u001b[39m.\u001b[39mloc[:, [\u001b[39m\"\u001b[39m\u001b[39mEdad\u001b[39m\u001b[39m\"\u001b[39m, \u001b[39m\"\u001b[39m\u001b[39mSubsegmento\u001b[39m\u001b[39m\"\u001b[39m]]\n\u001b[0;32m      <a href='vscode-notebook-cell:/c%3A/Users/bavyj/OneDrive/Documentos/ML/Prueba_1.ipynb#X52sZmlsZQ%3D%3D?line=1'>2</a>\u001b[0m correlation_kendall, p_value \u001b[39m=\u001b[39m kendalltau(df_test\u001b[39m.\u001b[39miloc[:, \u001b[39m0\u001b[39m], df_test\u001b[39m.\u001b[39miloc[:, \u001b[39m1\u001b[39m])\n\u001b[0;32m      <a href='vscode-notebook-cell:/c%3A/Users/bavyj/OneDrive/Documentos/ML/Prueba_1.ipynb#X52sZmlsZQ%3D%3D?line=3'>4</a>\u001b[0m \u001b[39mprint\u001b[39m(\u001b[39m\"\u001b[39m\u001b[39mCorrelación de Kendall entre Edad y Subsegmento:\u001b[39m\u001b[39m\"\u001b[39m, correlation_kendall)\n",
      "\u001b[1;31mNameError\u001b[0m: name 'df1_new' is not defined"
     ]
    }
   ],
   "source": [
    "df_test = df1_new.loc[:, [\"Edad\", \"Renta_Scaled\"]]\n",
    "correlation_kendall, p_value = kendalltau(df_test.iloc[:, 0], df_test.iloc[:, 1])\n",
    "\n",
    "print(\"Correlación de Kendall entre Edad y Renta_Scaled:\", correlation_kendall)\n",
    "\n",
    "plt.plot(df_test.loc[:, \"Edad\"], df_test.loc[:, \"Renta_Scaled\"], \"r.\")\n",
    "plt.xlabel('Edad')\n",
    "plt.ylabel('Renta_Scaled')\n",
    "plt.title(\"Correlación de Kendall\")\n",
    "\n",
    "plt.grid(True)\n",
    "plt.show()"
   ]
  },
  {
   "cell_type": "markdown",
   "metadata": {},
   "source": [
    "# Arboles de Decisión"
   ]
  },
  {
   "cell_type": "code",
   "execution_count": null,
   "metadata": {},
   "outputs": [],
   "source": [
    "## \n",
    "X = df1_new.loc[:,[\"Id\",\"Sexo\",\"Sexo_Encoded\",\"Region\",\"Edad\",\"Renta\",\"Renta_Scaled\",\"Antiguedad\",\"Internauta\",\"Adicional\",\"Dualidad\",\n",
    "\"Monoproducto\",\"Ctacte\",\"Consumo\",\"Hipotecario\",\"Debito\",\"CambioPin\",\"Cuentas\",\n",
    "\"TC\"]]\n",
    "\n",
    "y = df1_new.loc[:, \"Subsegmento\"]\n",
    "\n"
   ]
  }
 ],
 "metadata": {
  "colab": {
   "provenance": []
  },
  "kernelspec": {
   "display_name": "Python 3 (ipykernel)",
   "language": "python",
   "name": "python3"
  },
  "language_info": {
   "codemirror_mode": {
    "name": "ipython",
    "version": 3
   },
   "file_extension": ".py",
   "mimetype": "text/x-python",
   "name": "python",
   "nbconvert_exporter": "python",
   "pygments_lexer": "ipython3",
   "version": "3.10.11"
  }
 },
 "nbformat": 4,
 "nbformat_minor": 1
}
